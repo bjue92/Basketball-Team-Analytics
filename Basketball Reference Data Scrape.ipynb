{
 "cells": [
  {
   "cell_type": "code",
   "execution_count": 2,
   "metadata": {},
   "outputs": [
    {
     "name": "stderr",
     "output_type": "stream",
     "text": [
      "c:\\Users\\User\\anaconda3\\lib\\site-packages\\pandas\\core\\arrays\\masked.py:60: UserWarning: Pandas requires version '1.3.6' or newer of 'bottleneck' (version '1.3.5' currently installed).\n",
      "  from pandas.core import (\n"
     ]
    }
   ],
   "source": [
    "import pandas as pd\n",
    "import numpy as np\n",
    "import matplotlib.pyplot as plt\n",
    "from urllib.request import urlopen\n",
    "from bs4 import BeautifulSoup, Comment\n",
    "import requests\n"
   ]
  },
  {
   "cell_type": "markdown",
   "metadata": {},
   "source": [
    "## Data \n",
    "Data scrape from basketball-reference \n",
    "\n",
    "source: https://www.basketball-reference.com/"
   ]
  },
  {
   "cell_type": "code",
   "execution_count": 4,
   "metadata": {},
   "outputs": [],
   "source": [
    "#Test League Champion pull just for 2023-2024 season\n",
    "#URL to scrape\n",
    "url = \"https://www.basketball-reference.com/playoffs/NBA_2024.html\"\n",
    "\n",
    "#Collect html data\n",
    "html_content = urlopen(url)\n",
    "\n",
    "# Parse the HTML\n",
    "soup = BeautifulSoup(html_content, 'html.parser')\n",
    "\n",
    "# Find the element containing the league champion\n",
    "league_champion_element = soup.find('strong', text='League Champion')\n",
    "\n",
    "#Find League Champion\n",
    "league_champion = league_champion_element.find_next_sibling('a').text.strip()\n",
    "\n",
    "#Year\n",
    "year = 2024\n",
    "\n",
    "#Data\n",
    "data = {'year': [year], 'league_champion': [league_champion]}\n",
    "\n",
    "#Create dataframe with league champion info\n",
    "df = pd.DataFrame(data)"
   ]
  },
  {
   "cell_type": "markdown",
   "metadata": {},
   "source": [
    "## Scrape all League Champions\n",
    "Pull all league champions and combine with team stats and player stats on winning team to determine what statistics leads a team to win the championship"
   ]
  },
  {
   "cell_type": "code",
   "execution_count": 5,
   "metadata": {},
   "outputs": [],
   "source": [
    "#Set URL\n",
    "url = \"https://www.basketball-reference.com/leagues/\"\n",
    "\n",
    "#Open URL to parse html\n",
    "html_league_champ = urlopen(url)\n",
    "\n",
    "#Create BeautifulSoup object\n",
    "soup_league_champ = BeautifulSoup(html_league_champ, features = 'lxml')"
   ]
  },
  {
   "cell_type": "code",
   "execution_count": 13,
   "metadata": {},
   "outputs": [],
   "source": [
    "#Find headers of table\n",
    "header_league_champ = [th.getText() for th in soup_league_champ.findAll('tr', limit = 2)[1].findAll('th')]"
   ]
  },
  {
   "cell_type": "code",
   "execution_count": 14,
   "metadata": {},
   "outputs": [
    {
     "data": {
      "text/plain": [
       "['Season',\n",
       " 'Lg',\n",
       " 'Champion',\n",
       " 'MVP',\n",
       " 'Rookie of the Year',\n",
       " 'Points',\n",
       " 'Rebounds',\n",
       " 'Assists',\n",
       " 'Win Shares']"
      ]
     },
     "execution_count": 14,
     "metadata": {},
     "output_type": "execute_result"
    }
   ],
   "source": [
    "header_league_champ"
   ]
  },
  {
   "cell_type": "code",
   "execution_count": 15,
   "metadata": {},
   "outputs": [],
   "source": [
    "#Find all row data for table\n",
    "row_league_champ = soup_league_champ.findAll('tr')[2:]\n",
    "row_data = [[td.getText() for td in row_league_champ[i].findAll('td')] for i in range (len(row_league_champ))]\n"
   ]
  },
  {
   "cell_type": "code",
   "execution_count": 16,
   "metadata": {},
   "outputs": [],
   "source": [
    "#Add year\n",
    "last_year = 2025\n",
    "for i in range(0, len(row_data)):\n",
    "  row_data[i].insert(0, last_year)\n",
    "  last_year -= 1"
   ]
  },
  {
   "cell_type": "code",
   "execution_count": 17,
   "metadata": {},
   "outputs": [],
   "source": [
    "df_league_champ = pd.DataFrame(row_data, columns = header_league_champ)"
   ]
  },
  {
   "cell_type": "code",
   "execution_count": 18,
   "metadata": {},
   "outputs": [
    {
     "data": {
      "text/html": [
       "<div>\n",
       "<style scoped>\n",
       "    .dataframe tbody tr th:only-of-type {\n",
       "        vertical-align: middle;\n",
       "    }\n",
       "\n",
       "    .dataframe tbody tr th {\n",
       "        vertical-align: top;\n",
       "    }\n",
       "\n",
       "    .dataframe thead th {\n",
       "        text-align: right;\n",
       "    }\n",
       "</style>\n",
       "<table border=\"1\" class=\"dataframe\">\n",
       "  <thead>\n",
       "    <tr style=\"text-align: right;\">\n",
       "      <th></th>\n",
       "      <th>Season</th>\n",
       "      <th>Lg</th>\n",
       "      <th>Champion</th>\n",
       "      <th>MVP</th>\n",
       "      <th>Rookie of the Year</th>\n",
       "      <th>Points</th>\n",
       "      <th>Rebounds</th>\n",
       "      <th>Assists</th>\n",
       "      <th>Win Shares</th>\n",
       "    </tr>\n",
       "  </thead>\n",
       "  <tbody>\n",
       "    <tr>\n",
       "      <th>1</th>\n",
       "      <td>2024</td>\n",
       "      <td>NBA</td>\n",
       "      <td>Boston Celtics</td>\n",
       "      <td>N. Jokić</td>\n",
       "      <td>V. Wembanyama</td>\n",
       "      <td>L. Dončić (2370)</td>\n",
       "      <td>D. Sabonis (1120)</td>\n",
       "      <td>T. Haliburton (752)</td>\n",
       "      <td>N. Jokić (17.0)</td>\n",
       "    </tr>\n",
       "    <tr>\n",
       "      <th>2</th>\n",
       "      <td>2023</td>\n",
       "      <td>NBA</td>\n",
       "      <td>Denver Nuggets</td>\n",
       "      <td>J. Embiid</td>\n",
       "      <td>P. Banchero</td>\n",
       "      <td>J. Tatum (2225)</td>\n",
       "      <td>D. Sabonis (973)</td>\n",
       "      <td>T. Young (741)</td>\n",
       "      <td>N. Jokić (14.9)</td>\n",
       "    </tr>\n",
       "    <tr>\n",
       "      <th>3</th>\n",
       "      <td>2022</td>\n",
       "      <td>NBA</td>\n",
       "      <td>Golden State Warriors</td>\n",
       "      <td>N. Jokić</td>\n",
       "      <td>S. Barnes</td>\n",
       "      <td>T. Young (2155)</td>\n",
       "      <td>N. Jokić (1019)</td>\n",
       "      <td>T. Young (737)</td>\n",
       "      <td>N. Jokić (15.2)</td>\n",
       "    </tr>\n",
       "    <tr>\n",
       "      <th>4</th>\n",
       "      <td>2021</td>\n",
       "      <td>NBA</td>\n",
       "      <td>Milwaukee Bucks</td>\n",
       "      <td>N. Jokić</td>\n",
       "      <td>L. Ball</td>\n",
       "      <td>S. Curry (2015)</td>\n",
       "      <td>R. Gobert (960)</td>\n",
       "      <td>R. Westbrook (763)</td>\n",
       "      <td>N. Jokić (15.6)</td>\n",
       "    </tr>\n",
       "    <tr>\n",
       "      <th>5</th>\n",
       "      <td>2020</td>\n",
       "      <td>NBA</td>\n",
       "      <td>Los Angeles Lakers</td>\n",
       "      <td>G. Antetokounmpo</td>\n",
       "      <td>J. Morant</td>\n",
       "      <td>J. Harden (2335)</td>\n",
       "      <td>R. Gobert (916)</td>\n",
       "      <td>L. James (684)</td>\n",
       "      <td>J. Harden (13.1)</td>\n",
       "    </tr>\n",
       "    <tr>\n",
       "      <th>...</th>\n",
       "      <td>...</td>\n",
       "      <td>...</td>\n",
       "      <td>...</td>\n",
       "      <td>...</td>\n",
       "      <td>...</td>\n",
       "      <td>...</td>\n",
       "      <td>...</td>\n",
       "      <td>...</td>\n",
       "      <td>...</td>\n",
       "    </tr>\n",
       "    <tr>\n",
       "      <th>83</th>\n",
       "      <td>1942</td>\n",
       "      <td>NBA</td>\n",
       "      <td>Rochester Royals</td>\n",
       "      <td></td>\n",
       "      <td>P. Arizin</td>\n",
       "      <td>G. Mikan (1932)</td>\n",
       "      <td>D. Schayes (1080)</td>\n",
       "      <td>A. Phillip (414)</td>\n",
       "      <td>G. Mikan (23.4)</td>\n",
       "    </tr>\n",
       "    <tr>\n",
       "      <th>84</th>\n",
       "      <td>1941</td>\n",
       "      <td>NBA</td>\n",
       "      <td>Minneapolis Lakers</td>\n",
       "      <td></td>\n",
       "      <td>A. Groza</td>\n",
       "      <td>G. Mikan (1865)</td>\n",
       "      <td></td>\n",
       "      <td>D. McGuire (386)</td>\n",
       "      <td>G. Mikan (21.1)</td>\n",
       "    </tr>\n",
       "    <tr>\n",
       "      <th>85</th>\n",
       "      <td>1940</td>\n",
       "      <td>BAA</td>\n",
       "      <td>Minneapolis Lakers</td>\n",
       "      <td></td>\n",
       "      <td>H. Shannon</td>\n",
       "      <td>G. Mikan (1698)</td>\n",
       "      <td></td>\n",
       "      <td>B. Davies (321)</td>\n",
       "      <td>G. Mikan (20.9)</td>\n",
       "    </tr>\n",
       "    <tr>\n",
       "      <th>86</th>\n",
       "      <td>1939</td>\n",
       "      <td>BAA</td>\n",
       "      <td>Baltimore Bullets</td>\n",
       "      <td></td>\n",
       "      <td>P. Hoffman</td>\n",
       "      <td>M. Zaslofsky (1007)</td>\n",
       "      <td></td>\n",
       "      <td>H. Dallmar (120)</td>\n",
       "      <td>B. Feerick (10.5)</td>\n",
       "    </tr>\n",
       "    <tr>\n",
       "      <th>87</th>\n",
       "      <td>1938</td>\n",
       "      <td>BAA</td>\n",
       "      <td>Philadelphia Warriors</td>\n",
       "      <td></td>\n",
       "      <td></td>\n",
       "      <td>J. Fulks (1389)</td>\n",
       "      <td></td>\n",
       "      <td>E. Calverley (202)</td>\n",
       "      <td>B. Feerick (18.6)</td>\n",
       "    </tr>\n",
       "  </tbody>\n",
       "</table>\n",
       "<p>87 rows × 9 columns</p>\n",
       "</div>"
      ],
      "text/plain": [
       "    Season   Lg               Champion               MVP Rookie of the Year  \\\n",
       "1     2024  NBA         Boston Celtics          N. Jokić      V. Wembanyama   \n",
       "2     2023  NBA         Denver Nuggets         J. Embiid        P. Banchero   \n",
       "3     2022  NBA  Golden State Warriors          N. Jokić          S. Barnes   \n",
       "4     2021  NBA        Milwaukee Bucks          N. Jokić            L. Ball   \n",
       "5     2020  NBA     Los Angeles Lakers  G. Antetokounmpo          J. Morant   \n",
       "..     ...  ...                    ...               ...                ...   \n",
       "83    1942  NBA       Rochester Royals                            P. Arizin   \n",
       "84    1941  NBA     Minneapolis Lakers                             A. Groza   \n",
       "85    1940  BAA     Minneapolis Lakers                           H. Shannon   \n",
       "86    1939  BAA      Baltimore Bullets                           P. Hoffman   \n",
       "87    1938  BAA  Philadelphia Warriors                                        \n",
       "\n",
       "                 Points           Rebounds              Assists  \\\n",
       "1      L. Dončić (2370)  D. Sabonis (1120)  T. Haliburton (752)   \n",
       "2       J. Tatum (2225)   D. Sabonis (973)       T. Young (741)   \n",
       "3       T. Young (2155)    N. Jokić (1019)       T. Young (737)   \n",
       "4       S. Curry (2015)    R. Gobert (960)   R. Westbrook (763)   \n",
       "5      J. Harden (2335)    R. Gobert (916)       L. James (684)   \n",
       "..                  ...                ...                  ...   \n",
       "83      G. Mikan (1932)  D. Schayes (1080)     A. Phillip (414)   \n",
       "84      G. Mikan (1865)                        D. McGuire (386)   \n",
       "85      G. Mikan (1698)                         B. Davies (321)   \n",
       "86  M. Zaslofsky (1007)                        H. Dallmar (120)   \n",
       "87      J. Fulks (1389)                      E. Calverley (202)   \n",
       "\n",
       "           Win Shares  \n",
       "1     N. Jokić (17.0)  \n",
       "2     N. Jokić (14.9)  \n",
       "3     N. Jokić (15.2)  \n",
       "4     N. Jokić (15.6)  \n",
       "5    J. Harden (13.1)  \n",
       "..                ...  \n",
       "83    G. Mikan (23.4)  \n",
       "84    G. Mikan (21.1)  \n",
       "85    G. Mikan (20.9)  \n",
       "86  B. Feerick (10.5)  \n",
       "87  B. Feerick (18.6)  \n",
       "\n",
       "[87 rows x 9 columns]"
      ]
     },
     "execution_count": 18,
     "metadata": {},
     "output_type": "execute_result"
    }
   ],
   "source": [
    "df_league_champ = df_league_champ.iloc[1:]\n",
    "df_league_champ"
   ]
  },
  {
   "cell_type": "code",
   "execution_count": 19,
   "metadata": {},
   "outputs": [],
   "source": [
    "#Export data to csv\n",
    "df_league_champ.to_csv(r'C:\\Users\\User\\OneDrive\\Desktop\\Data Science Projects\\Basketball Winning Team\\Data\\NBA League Champs.csv')"
   ]
  },
  {
   "cell_type": "markdown",
   "metadata": {},
   "source": [
    "### Data - League Champion team's stats TEST\n"
   ]
  },
  {
   "cell_type": "code",
   "execution_count": 18,
   "metadata": {},
   "outputs": [
    {
     "ename": "HTTPError",
     "evalue": "HTTP Error 429: Too Many Requests",
     "output_type": "error",
     "traceback": [
      "\u001b[1;31m---------------------------------------------------------------------------\u001b[0m",
      "\u001b[1;31mHTTPError\u001b[0m                                 Traceback (most recent call last)",
      "Cell \u001b[1;32mIn[18], line 5\u001b[0m\n\u001b[0;32m      2\u001b[0m url \u001b[38;5;241m=\u001b[39m \u001b[38;5;124m\"\u001b[39m\u001b[38;5;124mhttps://www.basketball-reference.com/leagues/NBA_2023.html\u001b[39m\u001b[38;5;124m\"\u001b[39m\n\u001b[0;32m      4\u001b[0m \u001b[38;5;66;03m#Open URL\u001b[39;00m\n\u001b[1;32m----> 5\u001b[0m html_stats \u001b[38;5;241m=\u001b[39m \u001b[43murlopen\u001b[49m\u001b[43m(\u001b[49m\u001b[43murl\u001b[49m\u001b[43m)\u001b[49m\n\u001b[0;32m      7\u001b[0m \u001b[38;5;66;03m#Create soup object\u001b[39;00m\n\u001b[0;32m      8\u001b[0m soup_stats \u001b[38;5;241m=\u001b[39m BeautifulSoup(html_stats, features \u001b[38;5;241m=\u001b[39m \u001b[38;5;124m'\u001b[39m\u001b[38;5;124mlxml\u001b[39m\u001b[38;5;124m'\u001b[39m)\n",
      "File \u001b[1;32mc:\\Users\\User\\anaconda3\\lib\\urllib\\request.py:216\u001b[0m, in \u001b[0;36murlopen\u001b[1;34m(url, data, timeout, cafile, capath, cadefault, context)\u001b[0m\n\u001b[0;32m    214\u001b[0m \u001b[38;5;28;01melse\u001b[39;00m:\n\u001b[0;32m    215\u001b[0m     opener \u001b[38;5;241m=\u001b[39m _opener\n\u001b[1;32m--> 216\u001b[0m \u001b[38;5;28;01mreturn\u001b[39;00m \u001b[43mopener\u001b[49m\u001b[38;5;241;43m.\u001b[39;49m\u001b[43mopen\u001b[49m\u001b[43m(\u001b[49m\u001b[43murl\u001b[49m\u001b[43m,\u001b[49m\u001b[43m \u001b[49m\u001b[43mdata\u001b[49m\u001b[43m,\u001b[49m\u001b[43m \u001b[49m\u001b[43mtimeout\u001b[49m\u001b[43m)\u001b[49m\n",
      "File \u001b[1;32mc:\\Users\\User\\anaconda3\\lib\\urllib\\request.py:525\u001b[0m, in \u001b[0;36mOpenerDirector.open\u001b[1;34m(self, fullurl, data, timeout)\u001b[0m\n\u001b[0;32m    523\u001b[0m \u001b[38;5;28;01mfor\u001b[39;00m processor \u001b[38;5;129;01min\u001b[39;00m \u001b[38;5;28mself\u001b[39m\u001b[38;5;241m.\u001b[39mprocess_response\u001b[38;5;241m.\u001b[39mget(protocol, []):\n\u001b[0;32m    524\u001b[0m     meth \u001b[38;5;241m=\u001b[39m \u001b[38;5;28mgetattr\u001b[39m(processor, meth_name)\n\u001b[1;32m--> 525\u001b[0m     response \u001b[38;5;241m=\u001b[39m \u001b[43mmeth\u001b[49m\u001b[43m(\u001b[49m\u001b[43mreq\u001b[49m\u001b[43m,\u001b[49m\u001b[43m \u001b[49m\u001b[43mresponse\u001b[49m\u001b[43m)\u001b[49m\n\u001b[0;32m    527\u001b[0m \u001b[38;5;28;01mreturn\u001b[39;00m response\n",
      "File \u001b[1;32mc:\\Users\\User\\anaconda3\\lib\\urllib\\request.py:634\u001b[0m, in \u001b[0;36mHTTPErrorProcessor.http_response\u001b[1;34m(self, request, response)\u001b[0m\n\u001b[0;32m    631\u001b[0m \u001b[38;5;66;03m# According to RFC 2616, \"2xx\" code indicates that the client's\u001b[39;00m\n\u001b[0;32m    632\u001b[0m \u001b[38;5;66;03m# request was successfully received, understood, and accepted.\u001b[39;00m\n\u001b[0;32m    633\u001b[0m \u001b[38;5;28;01mif\u001b[39;00m \u001b[38;5;129;01mnot\u001b[39;00m (\u001b[38;5;241m200\u001b[39m \u001b[38;5;241m<\u001b[39m\u001b[38;5;241m=\u001b[39m code \u001b[38;5;241m<\u001b[39m \u001b[38;5;241m300\u001b[39m):\n\u001b[1;32m--> 634\u001b[0m     response \u001b[38;5;241m=\u001b[39m \u001b[38;5;28;43mself\u001b[39;49m\u001b[38;5;241;43m.\u001b[39;49m\u001b[43mparent\u001b[49m\u001b[38;5;241;43m.\u001b[39;49m\u001b[43merror\u001b[49m\u001b[43m(\u001b[49m\n\u001b[0;32m    635\u001b[0m \u001b[43m        \u001b[49m\u001b[38;5;124;43m'\u001b[39;49m\u001b[38;5;124;43mhttp\u001b[39;49m\u001b[38;5;124;43m'\u001b[39;49m\u001b[43m,\u001b[49m\u001b[43m \u001b[49m\u001b[43mrequest\u001b[49m\u001b[43m,\u001b[49m\u001b[43m \u001b[49m\u001b[43mresponse\u001b[49m\u001b[43m,\u001b[49m\u001b[43m \u001b[49m\u001b[43mcode\u001b[49m\u001b[43m,\u001b[49m\u001b[43m \u001b[49m\u001b[43mmsg\u001b[49m\u001b[43m,\u001b[49m\u001b[43m \u001b[49m\u001b[43mhdrs\u001b[49m\u001b[43m)\u001b[49m\n\u001b[0;32m    637\u001b[0m \u001b[38;5;28;01mreturn\u001b[39;00m response\n",
      "File \u001b[1;32mc:\\Users\\User\\anaconda3\\lib\\urllib\\request.py:563\u001b[0m, in \u001b[0;36mOpenerDirector.error\u001b[1;34m(self, proto, *args)\u001b[0m\n\u001b[0;32m    561\u001b[0m \u001b[38;5;28;01mif\u001b[39;00m http_err:\n\u001b[0;32m    562\u001b[0m     args \u001b[38;5;241m=\u001b[39m (\u001b[38;5;28mdict\u001b[39m, \u001b[38;5;124m'\u001b[39m\u001b[38;5;124mdefault\u001b[39m\u001b[38;5;124m'\u001b[39m, \u001b[38;5;124m'\u001b[39m\u001b[38;5;124mhttp_error_default\u001b[39m\u001b[38;5;124m'\u001b[39m) \u001b[38;5;241m+\u001b[39m orig_args\n\u001b[1;32m--> 563\u001b[0m     \u001b[38;5;28;01mreturn\u001b[39;00m \u001b[38;5;28;43mself\u001b[39;49m\u001b[38;5;241;43m.\u001b[39;49m\u001b[43m_call_chain\u001b[49m\u001b[43m(\u001b[49m\u001b[38;5;241;43m*\u001b[39;49m\u001b[43margs\u001b[49m\u001b[43m)\u001b[49m\n",
      "File \u001b[1;32mc:\\Users\\User\\anaconda3\\lib\\urllib\\request.py:496\u001b[0m, in \u001b[0;36mOpenerDirector._call_chain\u001b[1;34m(self, chain, kind, meth_name, *args)\u001b[0m\n\u001b[0;32m    494\u001b[0m \u001b[38;5;28;01mfor\u001b[39;00m handler \u001b[38;5;129;01min\u001b[39;00m handlers:\n\u001b[0;32m    495\u001b[0m     func \u001b[38;5;241m=\u001b[39m \u001b[38;5;28mgetattr\u001b[39m(handler, meth_name)\n\u001b[1;32m--> 496\u001b[0m     result \u001b[38;5;241m=\u001b[39m \u001b[43mfunc\u001b[49m\u001b[43m(\u001b[49m\u001b[38;5;241;43m*\u001b[39;49m\u001b[43margs\u001b[49m\u001b[43m)\u001b[49m\n\u001b[0;32m    497\u001b[0m     \u001b[38;5;28;01mif\u001b[39;00m result \u001b[38;5;129;01mis\u001b[39;00m \u001b[38;5;129;01mnot\u001b[39;00m \u001b[38;5;28;01mNone\u001b[39;00m:\n\u001b[0;32m    498\u001b[0m         \u001b[38;5;28;01mreturn\u001b[39;00m result\n",
      "File \u001b[1;32mc:\\Users\\User\\anaconda3\\lib\\urllib\\request.py:643\u001b[0m, in \u001b[0;36mHTTPDefaultErrorHandler.http_error_default\u001b[1;34m(self, req, fp, code, msg, hdrs)\u001b[0m\n\u001b[0;32m    642\u001b[0m \u001b[38;5;28;01mdef\u001b[39;00m \u001b[38;5;21mhttp_error_default\u001b[39m(\u001b[38;5;28mself\u001b[39m, req, fp, code, msg, hdrs):\n\u001b[1;32m--> 643\u001b[0m     \u001b[38;5;28;01mraise\u001b[39;00m HTTPError(req\u001b[38;5;241m.\u001b[39mfull_url, code, msg, hdrs, fp)\n",
      "\u001b[1;31mHTTPError\u001b[0m: HTTP Error 429: Too Many Requests"
     ]
    }
   ],
   "source": [
    "#Set URL\n",
    "url = \"https://www.basketball-reference.com/leagues/NBA_2023.html\"\n",
    "\n",
    "#Open URL\n",
    "html_stats = urlopen(url)\n",
    "\n",
    "#Create soup object\n",
    "soup_stats = BeautifulSoup(html_stats, features = 'lxml')\n"
   ]
  },
  {
   "cell_type": "code",
   "execution_count": 47,
   "metadata": {},
   "outputs": [
    {
     "data": {
      "text/html": [
       "<div>\n",
       "<style scoped>\n",
       "    .dataframe tbody tr th:only-of-type {\n",
       "        vertical-align: middle;\n",
       "    }\n",
       "\n",
       "    .dataframe tbody tr th {\n",
       "        vertical-align: top;\n",
       "    }\n",
       "\n",
       "    .dataframe thead th {\n",
       "        text-align: right;\n",
       "    }\n",
       "</style>\n",
       "<table border=\"1\" class=\"dataframe\">\n",
       "  <thead>\n",
       "    <tr style=\"text-align: right;\">\n",
       "      <th></th>\n",
       "      <th>Team</th>\n",
       "      <th>Age</th>\n",
       "      <th>W</th>\n",
       "      <th>L</th>\n",
       "      <th>PW</th>\n",
       "      <th>PL</th>\n",
       "      <th>MOV</th>\n",
       "      <th>SOS</th>\n",
       "      <th>SRS</th>\n",
       "      <th>ORtg</th>\n",
       "      <th>...</th>\n",
       "      <th></th>\n",
       "      <th>eFG%</th>\n",
       "      <th>TOV%</th>\n",
       "      <th>DRB%</th>\n",
       "      <th>FT/FGA</th>\n",
       "      <th></th>\n",
       "      <th>Arena</th>\n",
       "      <th>Attend.</th>\n",
       "      <th>Attend./G</th>\n",
       "      <th>Year</th>\n",
       "    </tr>\n",
       "  </thead>\n",
       "  <tbody>\n",
       "    <tr>\n",
       "      <th>0</th>\n",
       "      <td>None</td>\n",
       "      <td>None</td>\n",
       "      <td>None</td>\n",
       "      <td>None</td>\n",
       "      <td>None</td>\n",
       "      <td>None</td>\n",
       "      <td>None</td>\n",
       "      <td>None</td>\n",
       "      <td>None</td>\n",
       "      <td>None</td>\n",
       "      <td>...</td>\n",
       "      <td>None</td>\n",
       "      <td>None</td>\n",
       "      <td>None</td>\n",
       "      <td>None</td>\n",
       "      <td>None</td>\n",
       "      <td>None</td>\n",
       "      <td>None</td>\n",
       "      <td>None</td>\n",
       "      <td>None</td>\n",
       "      <td>2024</td>\n",
       "    </tr>\n",
       "    <tr>\n",
       "      <th>1</th>\n",
       "      <td>Boston Celtics*</td>\n",
       "      <td>28.2</td>\n",
       "      <td>64</td>\n",
       "      <td>18</td>\n",
       "      <td>66</td>\n",
       "      <td>16</td>\n",
       "      <td>11.34</td>\n",
       "      <td>-0.60</td>\n",
       "      <td>10.75</td>\n",
       "      <td>123.2</td>\n",
       "      <td>...</td>\n",
       "      <td></td>\n",
       "      <td>.523</td>\n",
       "      <td>10.8</td>\n",
       "      <td>76.3</td>\n",
       "      <td>.145</td>\n",
       "      <td></td>\n",
       "      <td>TD Garden</td>\n",
       "      <td>785,396</td>\n",
       "      <td>19,156</td>\n",
       "      <td>2024</td>\n",
       "    </tr>\n",
       "    <tr>\n",
       "      <th>2</th>\n",
       "      <td>Oklahoma City Thunder*</td>\n",
       "      <td>23.4</td>\n",
       "      <td>57</td>\n",
       "      <td>25</td>\n",
       "      <td>58</td>\n",
       "      <td>24</td>\n",
       "      <td>7.41</td>\n",
       "      <td>-0.05</td>\n",
       "      <td>7.36</td>\n",
       "      <td>119.5</td>\n",
       "      <td>...</td>\n",
       "      <td></td>\n",
       "      <td>.530</td>\n",
       "      <td>13.6</td>\n",
       "      <td>73.8</td>\n",
       "      <td>.202</td>\n",
       "      <td></td>\n",
       "      <td>Paycom Center</td>\n",
       "      <td>715,509</td>\n",
       "      <td>17,451</td>\n",
       "      <td>2024</td>\n",
       "    </tr>\n",
       "    <tr>\n",
       "      <th>3</th>\n",
       "      <td>Minnesota Timberwolves*</td>\n",
       "      <td>27.2</td>\n",
       "      <td>56</td>\n",
       "      <td>26</td>\n",
       "      <td>57</td>\n",
       "      <td>25</td>\n",
       "      <td>6.45</td>\n",
       "      <td>-0.07</td>\n",
       "      <td>6.39</td>\n",
       "      <td>115.6</td>\n",
       "      <td>...</td>\n",
       "      <td></td>\n",
       "      <td>.515</td>\n",
       "      <td>12.9</td>\n",
       "      <td>76.9</td>\n",
       "      <td>.197</td>\n",
       "      <td></td>\n",
       "      <td>Target Center</td>\n",
       "      <td>720,960</td>\n",
       "      <td>17,584</td>\n",
       "      <td>2024</td>\n",
       "    </tr>\n",
       "    <tr>\n",
       "      <th>4</th>\n",
       "      <td>Denver Nuggets*</td>\n",
       "      <td>27.1</td>\n",
       "      <td>57</td>\n",
       "      <td>25</td>\n",
       "      <td>54</td>\n",
       "      <td>28</td>\n",
       "      <td>5.26</td>\n",
       "      <td>-0.03</td>\n",
       "      <td>5.23</td>\n",
       "      <td>118.5</td>\n",
       "      <td>...</td>\n",
       "      <td></td>\n",
       "      <td>.526</td>\n",
       "      <td>11.2</td>\n",
       "      <td>75.6</td>\n",
       "      <td>.195</td>\n",
       "      <td></td>\n",
       "      <td>Ball Arena</td>\n",
       "      <td>807,062</td>\n",
       "      <td>19,684</td>\n",
       "      <td>2024</td>\n",
       "    </tr>\n",
       "  </tbody>\n",
       "</table>\n",
       "<p>5 rows × 31 columns</p>\n",
       "</div>"
      ],
      "text/plain": [
       "                      Team   Age     W     L    PW    PL    MOV    SOS    SRS  \\\n",
       "0                     None  None  None  None  None  None   None   None   None   \n",
       "1          Boston Celtics*  28.2    64    18    66    16  11.34  -0.60  10.75   \n",
       "2   Oklahoma City Thunder*  23.4    57    25    58    24   7.41  -0.05   7.36   \n",
       "3  Minnesota Timberwolves*  27.2    56    26    57    25   6.45  -0.07   6.39   \n",
       "4          Denver Nuggets*  27.1    57    25    54    28   5.26  -0.03   5.23   \n",
       "\n",
       "    ORtg  ...        eFG%  TOV%  DRB% FT/FGA                Arena  Attend.  \\\n",
       "0   None  ...  None  None  None  None   None  None           None     None   \n",
       "1  123.2  ...        .523  10.8  76.3   .145            TD Garden  785,396   \n",
       "2  119.5  ...        .530  13.6  73.8   .202        Paycom Center  715,509   \n",
       "3  115.6  ...        .515  12.9  76.9   .197        Target Center  720,960   \n",
       "4  118.5  ...        .526  11.2  75.6   .195           Ball Arena  807,062   \n",
       "\n",
       "  Attend./G  Year  \n",
       "0      None  2024  \n",
       "1    19,156  2024  \n",
       "2    17,451  2024  \n",
       "3    17,584  2024  \n",
       "4    19,684  2024  \n",
       "\n",
       "[5 rows x 31 columns]"
      ]
     },
     "execution_count": 47,
     "metadata": {},
     "output_type": "execute_result"
    }
   ],
   "source": [
    "#Test to get Per Game Stat Team table info\n",
    "#Set table to Per Game Stat Team\n",
    "table = soup_stats.find('table', id = 'advanced-team')\n",
    "\n",
    "#Get all headers\n",
    "headers = [th.getText() for th in table.find_all('tr')[1].find_all('th')]\n",
    "\n",
    "#Get all row data\n",
    "rows = table.find_all('tr')[1:]  \n",
    "data = [[trd.getText() for trd in row.find_all('td')] for row in rows]\n",
    "\n",
    "#Create Dataframe\n",
    "df = pd.DataFrame(data, columns=headers[1:])\n",
    "df['Year'] = 2024\n",
    "\n",
    "df.head(5)"
   ]
  },
  {
   "cell_type": "markdown",
   "metadata": {},
   "source": [
    "### Data - League Champion team's stats\n",
    "\n",
    "I want to pull all data frorm NBA season summary and aggregate into one table with all years. Dissect the statitiscs of the winning team to determine if there is any correlation and pattern to determine what makes a winning team"
   ]
  },
  {
   "cell_type": "code",
   "execution_count": 5,
   "metadata": {},
   "outputs": [],
   "source": [
    "#Create function to pull historical summary tables\n",
    "#Function will include parameters for table name input and list of range years\n",
    "\n",
    "def nba_season_summary(table_id,years = [2024]):\n",
    "    final_df = pd.DataFrame()\n",
    "\n",
    "    for year in years:\n",
    "        #Set URL\n",
    "        url = f\"https://www.basketball-reference.com/leagues/NBA_{year}.html\"\n",
    "\n",
    "        #Open URL\n",
    "        html_stats = urlopen(url)\n",
    "\n",
    "        #Create soup object\n",
    "        soup_stats = BeautifulSoup(html_stats, features = 'lxml')\n",
    "\n",
    "        #Set table element\n",
    "        table = soup_stats.find('table', id = table_id)\n",
    "\n",
    "        # Get all headers\n",
    "        headers = [th.getText() for th in table.find('tr').find_all('th')]\n",
    "\n",
    "        # Get all row data\n",
    "        rows = table.find_all('tr')[1:]\n",
    "        data = [[trd.getText() for trd in row.find_all('td')] for row in rows]\n",
    "\n",
    "\n",
    "        #Create Dataframe\n",
    "        df_stat = pd.DataFrame(data, columns=headers[1:])\n",
    "        df_stat['Year'] = year \n",
    "\n",
    "        #Append to current dataframe\n",
    "        final_df = pd.concat([final_df, df_stat], ignore_index=True)\n",
    "\n",
    "    return(final_df)\n",
    "\n",
    "\n",
    "\n",
    "\n"
   ]
  },
  {
   "cell_type": "code",
   "execution_count": 96,
   "metadata": {},
   "outputs": [
    {
     "data": {
      "text/plain": [
       "['confs_standings_E',\n",
       " 'confs_standings_W',\n",
       " 'divs_standings_E',\n",
       " 'divs_standings_W',\n",
       " 'per_game-team',\n",
       " 'per_game-opponent',\n",
       " 'totals-team',\n",
       " 'totals-opponent',\n",
       " 'per_poss-team',\n",
       " 'per_poss-opponent',\n",
       " 'advanced-team',\n",
       " 'shooting-team',\n",
       " 'shooting-opponent']"
      ]
     },
     "execution_count": 96,
     "metadata": {},
     "output_type": "execute_result"
    }
   ],
   "source": [
    "#Pull all tables in the NBA summaryr page; this will help determine what the table id names are to pull from the site\n",
    "#Set URL\n",
    "url = \"https://www.basketball-reference.com/leagues/NBA_2024.html\"\n",
    "\n",
    "#Open URL\n",
    "html_stats = urlopen(url)\n",
    "\n",
    "#Create soup object\n",
    "soup_stats = BeautifulSoup(html_stats, features = 'lxml')\n",
    "\n",
    "tables = soup_stats.findAll('table', {'class':'sortable'})\n",
    "\n",
    "table_id = [table.get('id') for table in tables]\n",
    "\n",
    "table_id\n"
   ]
  },
  {
   "cell_type": "markdown",
   "metadata": {},
   "source": [
    "### Pull all data from 1995 to 2025"
   ]
  },
  {
   "cell_type": "code",
   "execution_count": 106,
   "metadata": {},
   "outputs": [],
   "source": [
    "list_years = list(range(2016,2025))\n",
    "\n",
    "df_confs_e = nba_season_summary('confs_standings_E',list_years)\n",
    "df_confs_w = nba_season_summary('confs_standings_W',list_years)\n",
    "\n"
   ]
  },
  {
   "cell_type": "code",
   "execution_count": 107,
   "metadata": {},
   "outputs": [
    {
     "ename": "HTTPError",
     "evalue": "HTTP Error 429: Too Many Requests",
     "output_type": "error",
     "traceback": [
      "\u001b[1;31m---------------------------------------------------------------------------\u001b[0m",
      "\u001b[1;31mHTTPError\u001b[0m                                 Traceback (most recent call last)",
      "Cell \u001b[1;32mIn[107], line 3\u001b[0m\n\u001b[0;32m      1\u001b[0m list_years \u001b[38;5;241m=\u001b[39m \u001b[38;5;28mlist\u001b[39m(\u001b[38;5;28mrange\u001b[39m(\u001b[38;5;241m1995\u001b[39m,\u001b[38;5;241m2025\u001b[39m))\n\u001b[1;32m----> 3\u001b[0m df_divs_e \u001b[38;5;241m=\u001b[39m \u001b[43mnba_season_summary\u001b[49m\u001b[43m(\u001b[49m\u001b[38;5;124;43m'\u001b[39;49m\u001b[38;5;124;43mdivs_standings_E\u001b[39;49m\u001b[38;5;124;43m'\u001b[39;49m\u001b[43m,\u001b[49m\u001b[43mlist_years\u001b[49m\u001b[43m)\u001b[49m\n\u001b[0;32m      4\u001b[0m df_divs_w \u001b[38;5;241m=\u001b[39m nba_season_summary(\u001b[38;5;124m'\u001b[39m\u001b[38;5;124mivs_standings_W\u001b[39m\u001b[38;5;124m'\u001b[39m,list_years)\n",
      "Cell \u001b[1;32mIn[95], line 12\u001b[0m, in \u001b[0;36mnba_season_summary\u001b[1;34m(table_id, years)\u001b[0m\n\u001b[0;32m      9\u001b[0m url \u001b[38;5;241m=\u001b[39m \u001b[38;5;124mf\u001b[39m\u001b[38;5;124m\"\u001b[39m\u001b[38;5;124mhttps://www.basketball-reference.com/leagues/NBA_\u001b[39m\u001b[38;5;132;01m{\u001b[39;00myear\u001b[38;5;132;01m}\u001b[39;00m\u001b[38;5;124m.html\u001b[39m\u001b[38;5;124m\"\u001b[39m\n\u001b[0;32m     11\u001b[0m \u001b[38;5;66;03m#Open URL\u001b[39;00m\n\u001b[1;32m---> 12\u001b[0m html_stats \u001b[38;5;241m=\u001b[39m \u001b[43murlopen\u001b[49m\u001b[43m(\u001b[49m\u001b[43murl\u001b[49m\u001b[43m)\u001b[49m\n\u001b[0;32m     14\u001b[0m \u001b[38;5;66;03m#Create soup object\u001b[39;00m\n\u001b[0;32m     15\u001b[0m soup_stats \u001b[38;5;241m=\u001b[39m BeautifulSoup(html_stats, features \u001b[38;5;241m=\u001b[39m \u001b[38;5;124m'\u001b[39m\u001b[38;5;124mlxml\u001b[39m\u001b[38;5;124m'\u001b[39m)\n",
      "File \u001b[1;32mc:\\Users\\User\\anaconda3\\lib\\urllib\\request.py:216\u001b[0m, in \u001b[0;36murlopen\u001b[1;34m(url, data, timeout, cafile, capath, cadefault, context)\u001b[0m\n\u001b[0;32m    214\u001b[0m \u001b[38;5;28;01melse\u001b[39;00m:\n\u001b[0;32m    215\u001b[0m     opener \u001b[38;5;241m=\u001b[39m _opener\n\u001b[1;32m--> 216\u001b[0m \u001b[38;5;28;01mreturn\u001b[39;00m \u001b[43mopener\u001b[49m\u001b[38;5;241;43m.\u001b[39;49m\u001b[43mopen\u001b[49m\u001b[43m(\u001b[49m\u001b[43murl\u001b[49m\u001b[43m,\u001b[49m\u001b[43m \u001b[49m\u001b[43mdata\u001b[49m\u001b[43m,\u001b[49m\u001b[43m \u001b[49m\u001b[43mtimeout\u001b[49m\u001b[43m)\u001b[49m\n",
      "File \u001b[1;32mc:\\Users\\User\\anaconda3\\lib\\urllib\\request.py:525\u001b[0m, in \u001b[0;36mOpenerDirector.open\u001b[1;34m(self, fullurl, data, timeout)\u001b[0m\n\u001b[0;32m    523\u001b[0m \u001b[38;5;28;01mfor\u001b[39;00m processor \u001b[38;5;129;01min\u001b[39;00m \u001b[38;5;28mself\u001b[39m\u001b[38;5;241m.\u001b[39mprocess_response\u001b[38;5;241m.\u001b[39mget(protocol, []):\n\u001b[0;32m    524\u001b[0m     meth \u001b[38;5;241m=\u001b[39m \u001b[38;5;28mgetattr\u001b[39m(processor, meth_name)\n\u001b[1;32m--> 525\u001b[0m     response \u001b[38;5;241m=\u001b[39m \u001b[43mmeth\u001b[49m\u001b[43m(\u001b[49m\u001b[43mreq\u001b[49m\u001b[43m,\u001b[49m\u001b[43m \u001b[49m\u001b[43mresponse\u001b[49m\u001b[43m)\u001b[49m\n\u001b[0;32m    527\u001b[0m \u001b[38;5;28;01mreturn\u001b[39;00m response\n",
      "File \u001b[1;32mc:\\Users\\User\\anaconda3\\lib\\urllib\\request.py:634\u001b[0m, in \u001b[0;36mHTTPErrorProcessor.http_response\u001b[1;34m(self, request, response)\u001b[0m\n\u001b[0;32m    631\u001b[0m \u001b[38;5;66;03m# According to RFC 2616, \"2xx\" code indicates that the client's\u001b[39;00m\n\u001b[0;32m    632\u001b[0m \u001b[38;5;66;03m# request was successfully received, understood, and accepted.\u001b[39;00m\n\u001b[0;32m    633\u001b[0m \u001b[38;5;28;01mif\u001b[39;00m \u001b[38;5;129;01mnot\u001b[39;00m (\u001b[38;5;241m200\u001b[39m \u001b[38;5;241m<\u001b[39m\u001b[38;5;241m=\u001b[39m code \u001b[38;5;241m<\u001b[39m \u001b[38;5;241m300\u001b[39m):\n\u001b[1;32m--> 634\u001b[0m     response \u001b[38;5;241m=\u001b[39m \u001b[38;5;28;43mself\u001b[39;49m\u001b[38;5;241;43m.\u001b[39;49m\u001b[43mparent\u001b[49m\u001b[38;5;241;43m.\u001b[39;49m\u001b[43merror\u001b[49m\u001b[43m(\u001b[49m\n\u001b[0;32m    635\u001b[0m \u001b[43m        \u001b[49m\u001b[38;5;124;43m'\u001b[39;49m\u001b[38;5;124;43mhttp\u001b[39;49m\u001b[38;5;124;43m'\u001b[39;49m\u001b[43m,\u001b[49m\u001b[43m \u001b[49m\u001b[43mrequest\u001b[49m\u001b[43m,\u001b[49m\u001b[43m \u001b[49m\u001b[43mresponse\u001b[49m\u001b[43m,\u001b[49m\u001b[43m \u001b[49m\u001b[43mcode\u001b[49m\u001b[43m,\u001b[49m\u001b[43m \u001b[49m\u001b[43mmsg\u001b[49m\u001b[43m,\u001b[49m\u001b[43m \u001b[49m\u001b[43mhdrs\u001b[49m\u001b[43m)\u001b[49m\n\u001b[0;32m    637\u001b[0m \u001b[38;5;28;01mreturn\u001b[39;00m response\n",
      "File \u001b[1;32mc:\\Users\\User\\anaconda3\\lib\\urllib\\request.py:563\u001b[0m, in \u001b[0;36mOpenerDirector.error\u001b[1;34m(self, proto, *args)\u001b[0m\n\u001b[0;32m    561\u001b[0m \u001b[38;5;28;01mif\u001b[39;00m http_err:\n\u001b[0;32m    562\u001b[0m     args \u001b[38;5;241m=\u001b[39m (\u001b[38;5;28mdict\u001b[39m, \u001b[38;5;124m'\u001b[39m\u001b[38;5;124mdefault\u001b[39m\u001b[38;5;124m'\u001b[39m, \u001b[38;5;124m'\u001b[39m\u001b[38;5;124mhttp_error_default\u001b[39m\u001b[38;5;124m'\u001b[39m) \u001b[38;5;241m+\u001b[39m orig_args\n\u001b[1;32m--> 563\u001b[0m     \u001b[38;5;28;01mreturn\u001b[39;00m \u001b[38;5;28;43mself\u001b[39;49m\u001b[38;5;241;43m.\u001b[39;49m\u001b[43m_call_chain\u001b[49m\u001b[43m(\u001b[49m\u001b[38;5;241;43m*\u001b[39;49m\u001b[43margs\u001b[49m\u001b[43m)\u001b[49m\n",
      "File \u001b[1;32mc:\\Users\\User\\anaconda3\\lib\\urllib\\request.py:496\u001b[0m, in \u001b[0;36mOpenerDirector._call_chain\u001b[1;34m(self, chain, kind, meth_name, *args)\u001b[0m\n\u001b[0;32m    494\u001b[0m \u001b[38;5;28;01mfor\u001b[39;00m handler \u001b[38;5;129;01min\u001b[39;00m handlers:\n\u001b[0;32m    495\u001b[0m     func \u001b[38;5;241m=\u001b[39m \u001b[38;5;28mgetattr\u001b[39m(handler, meth_name)\n\u001b[1;32m--> 496\u001b[0m     result \u001b[38;5;241m=\u001b[39m \u001b[43mfunc\u001b[49m\u001b[43m(\u001b[49m\u001b[38;5;241;43m*\u001b[39;49m\u001b[43margs\u001b[49m\u001b[43m)\u001b[49m\n\u001b[0;32m    497\u001b[0m     \u001b[38;5;28;01mif\u001b[39;00m result \u001b[38;5;129;01mis\u001b[39;00m \u001b[38;5;129;01mnot\u001b[39;00m \u001b[38;5;28;01mNone\u001b[39;00m:\n\u001b[0;32m    498\u001b[0m         \u001b[38;5;28;01mreturn\u001b[39;00m result\n",
      "File \u001b[1;32mc:\\Users\\User\\anaconda3\\lib\\urllib\\request.py:643\u001b[0m, in \u001b[0;36mHTTPDefaultErrorHandler.http_error_default\u001b[1;34m(self, req, fp, code, msg, hdrs)\u001b[0m\n\u001b[0;32m    642\u001b[0m \u001b[38;5;28;01mdef\u001b[39;00m \u001b[38;5;21mhttp_error_default\u001b[39m(\u001b[38;5;28mself\u001b[39m, req, fp, code, msg, hdrs):\n\u001b[1;32m--> 643\u001b[0m     \u001b[38;5;28;01mraise\u001b[39;00m HTTPError(req\u001b[38;5;241m.\u001b[39mfull_url, code, msg, hdrs, fp)\n",
      "\u001b[1;31mHTTPError\u001b[0m: HTTP Error 429: Too Many Requests"
     ]
    }
   ],
   "source": [
    "list_years = list(range(1995,2025))\n",
    "\n",
    "df_divs_e = nba_season_summary('divs_standings_E',list_years)\n",
    "df_divs_w = nba_season_summary('ivs_standings_W',list_years)\n"
   ]
  },
  {
   "cell_type": "code",
   "execution_count": 3,
   "metadata": {},
   "outputs": [],
   "source": [
    "list_years = list(range(1995,2025))\n",
    "\n",
    "df_pergame_team = nba_season_summary('per_game-team',list_years)\n"
   ]
  },
  {
   "cell_type": "code",
   "execution_count": 3,
   "metadata": {},
   "outputs": [],
   "source": [
    "list_years = list(range(1995,2025))\n",
    "\n",
    "df_pergame_opp = nba_season_summary('per_game-opponent',list_years)\n",
    "\n"
   ]
  },
  {
   "cell_type": "code",
   "execution_count": 5,
   "metadata": {},
   "outputs": [],
   "source": [
    "list_years = list(range(1995,2025))\n",
    "\n",
    "df_totals_team = nba_season_summary('totals-team',list_years)\n"
   ]
  },
  {
   "cell_type": "code",
   "execution_count": 7,
   "metadata": {},
   "outputs": [
    {
     "ename": "HTTPError",
     "evalue": "HTTP Error 429: Too Many Requests",
     "output_type": "error",
     "traceback": [
      "\u001b[1;31m---------------------------------------------------------------------------\u001b[0m",
      "\u001b[1;31mHTTPError\u001b[0m                                 Traceback (most recent call last)",
      "Cell \u001b[1;32mIn[7], line 3\u001b[0m\n\u001b[0;32m      1\u001b[0m list_years \u001b[38;5;241m=\u001b[39m \u001b[38;5;28mlist\u001b[39m(\u001b[38;5;28mrange\u001b[39m(\u001b[38;5;241m1995\u001b[39m,\u001b[38;5;241m2025\u001b[39m))\n\u001b[1;32m----> 3\u001b[0m df_totals_opp \u001b[38;5;241m=\u001b[39m \u001b[43mnba_season_summary\u001b[49m\u001b[43m(\u001b[49m\u001b[38;5;124;43m'\u001b[39;49m\u001b[38;5;124;43mtotals-opponent\u001b[39;49m\u001b[38;5;124;43m'\u001b[39;49m\u001b[43m,\u001b[49m\u001b[43mlist_years\u001b[49m\u001b[43m)\u001b[49m\n",
      "Cell \u001b[1;32mIn[3], line 12\u001b[0m, in \u001b[0;36mnba_season_summary\u001b[1;34m(table_id, years)\u001b[0m\n\u001b[0;32m      9\u001b[0m url \u001b[38;5;241m=\u001b[39m \u001b[38;5;124mf\u001b[39m\u001b[38;5;124m\"\u001b[39m\u001b[38;5;124mhttps://www.basketball-reference.com/leagues/NBA_\u001b[39m\u001b[38;5;132;01m{\u001b[39;00myear\u001b[38;5;132;01m}\u001b[39;00m\u001b[38;5;124m.html\u001b[39m\u001b[38;5;124m\"\u001b[39m\n\u001b[0;32m     11\u001b[0m \u001b[38;5;66;03m#Open URL\u001b[39;00m\n\u001b[1;32m---> 12\u001b[0m html_stats \u001b[38;5;241m=\u001b[39m \u001b[43murlopen\u001b[49m\u001b[43m(\u001b[49m\u001b[43murl\u001b[49m\u001b[43m)\u001b[49m\n\u001b[0;32m     14\u001b[0m \u001b[38;5;66;03m#Create soup object\u001b[39;00m\n\u001b[0;32m     15\u001b[0m soup_stats \u001b[38;5;241m=\u001b[39m BeautifulSoup(html_stats, features \u001b[38;5;241m=\u001b[39m \u001b[38;5;124m'\u001b[39m\u001b[38;5;124mlxml\u001b[39m\u001b[38;5;124m'\u001b[39m)\n",
      "File \u001b[1;32mc:\\Users\\User\\anaconda3\\lib\\urllib\\request.py:216\u001b[0m, in \u001b[0;36murlopen\u001b[1;34m(url, data, timeout, cafile, capath, cadefault, context)\u001b[0m\n\u001b[0;32m    214\u001b[0m \u001b[38;5;28;01melse\u001b[39;00m:\n\u001b[0;32m    215\u001b[0m     opener \u001b[38;5;241m=\u001b[39m _opener\n\u001b[1;32m--> 216\u001b[0m \u001b[38;5;28;01mreturn\u001b[39;00m \u001b[43mopener\u001b[49m\u001b[38;5;241;43m.\u001b[39;49m\u001b[43mopen\u001b[49m\u001b[43m(\u001b[49m\u001b[43murl\u001b[49m\u001b[43m,\u001b[49m\u001b[43m \u001b[49m\u001b[43mdata\u001b[49m\u001b[43m,\u001b[49m\u001b[43m \u001b[49m\u001b[43mtimeout\u001b[49m\u001b[43m)\u001b[49m\n",
      "File \u001b[1;32mc:\\Users\\User\\anaconda3\\lib\\urllib\\request.py:525\u001b[0m, in \u001b[0;36mOpenerDirector.open\u001b[1;34m(self, fullurl, data, timeout)\u001b[0m\n\u001b[0;32m    523\u001b[0m \u001b[38;5;28;01mfor\u001b[39;00m processor \u001b[38;5;129;01min\u001b[39;00m \u001b[38;5;28mself\u001b[39m\u001b[38;5;241m.\u001b[39mprocess_response\u001b[38;5;241m.\u001b[39mget(protocol, []):\n\u001b[0;32m    524\u001b[0m     meth \u001b[38;5;241m=\u001b[39m \u001b[38;5;28mgetattr\u001b[39m(processor, meth_name)\n\u001b[1;32m--> 525\u001b[0m     response \u001b[38;5;241m=\u001b[39m \u001b[43mmeth\u001b[49m\u001b[43m(\u001b[49m\u001b[43mreq\u001b[49m\u001b[43m,\u001b[49m\u001b[43m \u001b[49m\u001b[43mresponse\u001b[49m\u001b[43m)\u001b[49m\n\u001b[0;32m    527\u001b[0m \u001b[38;5;28;01mreturn\u001b[39;00m response\n",
      "File \u001b[1;32mc:\\Users\\User\\anaconda3\\lib\\urllib\\request.py:634\u001b[0m, in \u001b[0;36mHTTPErrorProcessor.http_response\u001b[1;34m(self, request, response)\u001b[0m\n\u001b[0;32m    631\u001b[0m \u001b[38;5;66;03m# According to RFC 2616, \"2xx\" code indicates that the client's\u001b[39;00m\n\u001b[0;32m    632\u001b[0m \u001b[38;5;66;03m# request was successfully received, understood, and accepted.\u001b[39;00m\n\u001b[0;32m    633\u001b[0m \u001b[38;5;28;01mif\u001b[39;00m \u001b[38;5;129;01mnot\u001b[39;00m (\u001b[38;5;241m200\u001b[39m \u001b[38;5;241m<\u001b[39m\u001b[38;5;241m=\u001b[39m code \u001b[38;5;241m<\u001b[39m \u001b[38;5;241m300\u001b[39m):\n\u001b[1;32m--> 634\u001b[0m     response \u001b[38;5;241m=\u001b[39m \u001b[38;5;28;43mself\u001b[39;49m\u001b[38;5;241;43m.\u001b[39;49m\u001b[43mparent\u001b[49m\u001b[38;5;241;43m.\u001b[39;49m\u001b[43merror\u001b[49m\u001b[43m(\u001b[49m\n\u001b[0;32m    635\u001b[0m \u001b[43m        \u001b[49m\u001b[38;5;124;43m'\u001b[39;49m\u001b[38;5;124;43mhttp\u001b[39;49m\u001b[38;5;124;43m'\u001b[39;49m\u001b[43m,\u001b[49m\u001b[43m \u001b[49m\u001b[43mrequest\u001b[49m\u001b[43m,\u001b[49m\u001b[43m \u001b[49m\u001b[43mresponse\u001b[49m\u001b[43m,\u001b[49m\u001b[43m \u001b[49m\u001b[43mcode\u001b[49m\u001b[43m,\u001b[49m\u001b[43m \u001b[49m\u001b[43mmsg\u001b[49m\u001b[43m,\u001b[49m\u001b[43m \u001b[49m\u001b[43mhdrs\u001b[49m\u001b[43m)\u001b[49m\n\u001b[0;32m    637\u001b[0m \u001b[38;5;28;01mreturn\u001b[39;00m response\n",
      "File \u001b[1;32mc:\\Users\\User\\anaconda3\\lib\\urllib\\request.py:563\u001b[0m, in \u001b[0;36mOpenerDirector.error\u001b[1;34m(self, proto, *args)\u001b[0m\n\u001b[0;32m    561\u001b[0m \u001b[38;5;28;01mif\u001b[39;00m http_err:\n\u001b[0;32m    562\u001b[0m     args \u001b[38;5;241m=\u001b[39m (\u001b[38;5;28mdict\u001b[39m, \u001b[38;5;124m'\u001b[39m\u001b[38;5;124mdefault\u001b[39m\u001b[38;5;124m'\u001b[39m, \u001b[38;5;124m'\u001b[39m\u001b[38;5;124mhttp_error_default\u001b[39m\u001b[38;5;124m'\u001b[39m) \u001b[38;5;241m+\u001b[39m orig_args\n\u001b[1;32m--> 563\u001b[0m     \u001b[38;5;28;01mreturn\u001b[39;00m \u001b[38;5;28;43mself\u001b[39;49m\u001b[38;5;241;43m.\u001b[39;49m\u001b[43m_call_chain\u001b[49m\u001b[43m(\u001b[49m\u001b[38;5;241;43m*\u001b[39;49m\u001b[43margs\u001b[49m\u001b[43m)\u001b[49m\n",
      "File \u001b[1;32mc:\\Users\\User\\anaconda3\\lib\\urllib\\request.py:496\u001b[0m, in \u001b[0;36mOpenerDirector._call_chain\u001b[1;34m(self, chain, kind, meth_name, *args)\u001b[0m\n\u001b[0;32m    494\u001b[0m \u001b[38;5;28;01mfor\u001b[39;00m handler \u001b[38;5;129;01min\u001b[39;00m handlers:\n\u001b[0;32m    495\u001b[0m     func \u001b[38;5;241m=\u001b[39m \u001b[38;5;28mgetattr\u001b[39m(handler, meth_name)\n\u001b[1;32m--> 496\u001b[0m     result \u001b[38;5;241m=\u001b[39m \u001b[43mfunc\u001b[49m\u001b[43m(\u001b[49m\u001b[38;5;241;43m*\u001b[39;49m\u001b[43margs\u001b[49m\u001b[43m)\u001b[49m\n\u001b[0;32m    497\u001b[0m     \u001b[38;5;28;01mif\u001b[39;00m result \u001b[38;5;129;01mis\u001b[39;00m \u001b[38;5;129;01mnot\u001b[39;00m \u001b[38;5;28;01mNone\u001b[39;00m:\n\u001b[0;32m    498\u001b[0m         \u001b[38;5;28;01mreturn\u001b[39;00m result\n",
      "File \u001b[1;32mc:\\Users\\User\\anaconda3\\lib\\urllib\\request.py:643\u001b[0m, in \u001b[0;36mHTTPDefaultErrorHandler.http_error_default\u001b[1;34m(self, req, fp, code, msg, hdrs)\u001b[0m\n\u001b[0;32m    642\u001b[0m \u001b[38;5;28;01mdef\u001b[39;00m \u001b[38;5;21mhttp_error_default\u001b[39m(\u001b[38;5;28mself\u001b[39m, req, fp, code, msg, hdrs):\n\u001b[1;32m--> 643\u001b[0m     \u001b[38;5;28;01mraise\u001b[39;00m HTTPError(req\u001b[38;5;241m.\u001b[39mfull_url, code, msg, hdrs, fp)\n",
      "\u001b[1;31mHTTPError\u001b[0m: HTTP Error 429: Too Many Requests"
     ]
    }
   ],
   "source": [
    "list_years = list(range(1995,2025))\n",
    "\n",
    "df_totals_opp = nba_season_summary('totals-opponent',list_years)"
   ]
  },
  {
   "cell_type": "code",
   "execution_count": 9,
   "metadata": {},
   "outputs": [],
   "source": [
    "list_years = list(range(1995,2025))\n",
    "\n",
    "df_per_poss_team = nba_season_summary('per_poss-team',list_years)\n"
   ]
  },
  {
   "cell_type": "code",
   "execution_count": 12,
   "metadata": {},
   "outputs": [],
   "source": [
    "list_years = list(range(1995,2025))\n",
    "\n",
    "\n",
    "df_per_poss_opp = nba_season_summary('per_poss-opponent',list_years)"
   ]
  },
  {
   "cell_type": "code",
   "execution_count": 108,
   "metadata": {},
   "outputs": [
    {
     "ename": "NameError",
     "evalue": "name 'df_totals_opp' is not defined",
     "output_type": "error",
     "traceback": [
      "\u001b[1;31m---------------------------------------------------------------------------\u001b[0m",
      "\u001b[1;31mNameError\u001b[0m                                 Traceback (most recent call last)",
      "Cell \u001b[1;32mIn[108], line 6\u001b[0m\n\u001b[0;32m      2\u001b[0m df_confs_w\u001b[38;5;241m.\u001b[39mto_csv(\u001b[38;5;124m'\u001b[39m\u001b[38;5;124mData\u001b[39m\u001b[38;5;124m\\\u001b[39m\u001b[38;5;124mConference West Standings.csv\u001b[39m\u001b[38;5;124m'\u001b[39m, index \u001b[38;5;241m=\u001b[39m \u001b[38;5;28;01mFalse\u001b[39;00m) \u001b[38;5;66;03m#Pull complete\u001b[39;00m\n\u001b[0;32m      3\u001b[0m \u001b[38;5;66;03m# df_pergame_team.to_csv('Data\\Team Stat Per Game - Team.csv', index = False) #Pull complete\u001b[39;00m\n\u001b[0;32m      4\u001b[0m \u001b[38;5;66;03m#df_pergame_opp.to_csv('Data\\Team Stat Per Game - Opponent.csv', index = False) #Pull complete\u001b[39;00m\n\u001b[0;32m      5\u001b[0m \u001b[38;5;66;03m#df_totals_team.to_csv('Data\\Team Stat Totals - Team.csv', index = False) #Pull compelte\u001b[39;00m\n\u001b[1;32m----> 6\u001b[0m \u001b[43mdf_totals_opp\u001b[49m\u001b[38;5;241m.\u001b[39mto_csv(\u001b[38;5;124m'\u001b[39m\u001b[38;5;124mData\u001b[39m\u001b[38;5;124m\\\u001b[39m\u001b[38;5;124mTeam Stat Totals - Opponent.csv\u001b[39m\u001b[38;5;124m'\u001b[39m, index \u001b[38;5;241m=\u001b[39m \u001b[38;5;28;01mFalse\u001b[39;00m)\n",
      "\u001b[1;31mNameError\u001b[0m: name 'df_totals_opp' is not defined"
     ]
    }
   ],
   "source": [
    "#Export all datasets\n",
    "df_confs_e.to_csv('Data\\Conference East Standings.csv', index = False) #Pull complete\n",
    "df_confs_w.to_csv('Data\\Conference West Standings.csv', index = False) #Pull complete\n",
    "df_pergame_team.to_csv('Data\\Team Stat Per Game - Team.csv', index = False) #Pull complete\n",
    "df_pergame_opp.to_csv('Data\\Team Stat Per Game - Opponent.csv', index = False) #Pull complete\n",
    "df_totals_team.to_csv('Data\\Team Stat Totals - Team.csv', index = False) #Pull compelte\n",
    "df_totals_opp.to_csv('Data\\Team Stat Totals - Opponent.csv', index = False) #Pull compelte\n",
    "df_per_poss_team.to_csv('Data\\Team Stat Per Poss - Team.csv', index = False) #Pull compelte\n",
    "df_per_poss_opp.to_csv('Data\\Team Stat per Poss - Opponent.csv', index = False) #Pull compelte"
   ]
  },
  {
   "cell_type": "code",
   "execution_count": 3,
   "metadata": {},
   "outputs": [],
   "source": [
    "\n",
    "#Create a function to pull player shooting stats\n",
    "def player_shooting(table_id, years = [2024]):\n",
    "    final_df = pd.DataFrame()\n",
    "\n",
    "    for year in years:\n",
    "        url = f'https://www.basketball-reference.com/leagues/NBA_{year}_{table_id}.html'\n",
    "\n",
    "        #Open URL\n",
    "        html = urlopen(url)\n",
    "\n",
    "        #Create soup object\n",
    "        soup = BeautifulSoup(html, features = 'lxml')\n",
    "            \n",
    "        # Get all headers\n",
    "        headers = [th.getText() for th in soup.findAll('tr')[1].find_all('th')]\n",
    "\n",
    "        # Get all row data\n",
    "        rows = soup.find_all('tr')[1:]\n",
    "        data = [[trd.getText() for trd in row.find_all('td')] for row in rows]\n",
    "\n",
    "        #Create Dataframe\n",
    "        df_stat = pd.DataFrame(data, columns=headers[1:])\n",
    "        df_stat['Year'] = year\n",
    "\n",
    "        #Append to current dataframe\n",
    "        final_df = pd.concat([final_df, df_stat], ignore_index=True)\n",
    "\n",
    "    return(final_df)"
   ]
  },
  {
   "cell_type": "code",
   "execution_count": 7,
   "metadata": {},
   "outputs": [],
   "source": [
    "\n",
    "#Create function to pull shooting stats for team\n",
    "def nba_season_summary_2(table_id, years=[2024]):\n",
    "    final_df = pd.DataFrame()  # Initialize an empty dataframe to store results\n",
    "\n",
    "    for year in years:\n",
    "        try:\n",
    "            # Set URL\n",
    "            url = f\"https://www.basketball-reference.com/leagues/NBA_{year}.html\"\n",
    "\n",
    "            # Open URL\n",
    "            html_stats = urlopen(url)\n",
    "\n",
    "            # Create soup object\n",
    "            soup_stats = BeautifulSoup(html_stats, features='lxml')\n",
    "\n",
    "            # Set table element\n",
    "            table = soup_stats.find('table', id=table_id)\n",
    "\n",
    "            if table is None:\n",
    "                print(f\"Table not found for year {year}\")\n",
    "                continue\n",
    "\n",
    "            # Get all headers\n",
    "            headers = [th.getText() for th in table.findAll('tr')[1].find_all('th')]\n",
    "\n",
    "            # Get all row data\n",
    "            rows = table.find_all('tr')[1:]  # Extract rows starting from row 3\n",
    "            data = [[trd.getText() for trd in row.find_all(['td', 'th'])] for row in rows]\n",
    "\n",
    "            # Create Dataframe with headers\n",
    "            df_stat = pd.DataFrame(data, columns=headers)\n",
    "\n",
    "            # Add the 'Year' column\n",
    "            df_stat['Year'] = year\n",
    "\n",
    "            # Reset index to avoid issues with concatenation\n",
    "            df_stat.reset_index(drop=True, inplace=True)\n",
    "\n",
    "            #Append to current dataframe\n",
    "            final_df = pd.concat([final_df, df_stat], ignore_index=True)\n",
    "\n",
    "\n",
    "            print(f\"Processed year {year}\")\n",
    "\n",
    "        except Exception as e:\n",
    "            print(f\"Error processing year {year}: {str(e)}\")\n",
    "\n",
    "    return final_df"
   ]
  },
  {
   "cell_type": "code",
   "execution_count": 51,
   "metadata": {},
   "outputs": [
    {
     "name": "stdout",
     "output_type": "stream",
     "text": [
      "Processed year 2000\n",
      "Processed year 2001\n"
     ]
    }
   ],
   "source": [
    "list_years = list(range(2000,2002))\n",
    "\n",
    "df_shooting_team_1 = nba_season_summary_2('shooting-team',list_years)\n"
   ]
  },
  {
   "cell_type": "code",
   "execution_count": 61,
   "metadata": {},
   "outputs": [
    {
     "name": "stdout",
     "output_type": "stream",
     "text": [
      "Processed year 2002\n",
      "Processed year 2003\n",
      "Processed year 2004\n",
      "Processed year 2005\n",
      "Processed year 2006\n",
      "Processed year 2007\n",
      "Processed year 2008\n",
      "Processed year 2009\n",
      "Processed year 2010\n",
      "Processed year 2011\n",
      "Processed year 2012\n",
      "Processed year 2013\n",
      "Processed year 2014\n",
      "Processed year 2015\n",
      "Processed year 2016\n",
      "Processed year 2017\n",
      "Processed year 2018\n",
      "Processed year 2019\n",
      "Processed year 2020\n",
      "Processed year 2021\n",
      "Processed year 2022\n",
      "Processed year 2023\n",
      "Processed year 2024\n"
     ]
    }
   ],
   "source": [
    "list_years = list(range(2002,2025))\n",
    "\n",
    "df_shooting_team_2 = nba_season_summary_2('shooting-team',list_years)\n"
   ]
  },
  {
   "cell_type": "code",
   "execution_count": 14,
   "metadata": {},
   "outputs": [],
   "source": [
    "pd.set_option('display.max_columns', 1000)"
   ]
  },
  {
   "cell_type": "code",
   "execution_count": 36,
   "metadata": {},
   "outputs": [],
   "source": [
    "list_years = list(range(2023,2025))\n",
    "\n",
    "df_advanced_team = nba_season_summary_2('advanced-team',list_years)\n",
    "\n"
   ]
  },
  {
   "cell_type": "code",
   "execution_count": 19,
   "metadata": {},
   "outputs": [
    {
     "ename": "AttributeError",
     "evalue": "'NoneType' object has no attribute 'find_all'",
     "output_type": "error",
     "traceback": [
      "\u001b[1;31m---------------------------------------------------------------------------\u001b[0m",
      "\u001b[1;31mAttributeError\u001b[0m                            Traceback (most recent call last)",
      "Cell \u001b[1;32mIn[19], line 3\u001b[0m\n\u001b[0;32m      1\u001b[0m list_years \u001b[38;5;241m=\u001b[39m \u001b[38;5;28mlist\u001b[39m(\u001b[38;5;28mrange\u001b[39m(\u001b[38;5;241m1995\u001b[39m,\u001b[38;5;241m2025\u001b[39m))\n\u001b[1;32m----> 3\u001b[0m df_shooting_opp \u001b[38;5;241m=\u001b[39m \u001b[43mnba_season_summary_2\u001b[49m\u001b[43m(\u001b[49m\u001b[38;5;124;43m'\u001b[39;49m\u001b[38;5;124;43mshooting-opponent\u001b[39;49m\u001b[38;5;124;43m'\u001b[39;49m\u001b[43m,\u001b[49m\u001b[43mlist_years\u001b[49m\u001b[43m)\u001b[49m\n",
      "Cell \u001b[1;32mIn[17], line 21\u001b[0m, in \u001b[0;36mnba_season_summary_2\u001b[1;34m(table_id, years)\u001b[0m\n\u001b[0;32m     18\u001b[0m table \u001b[38;5;241m=\u001b[39m soup_stats\u001b[38;5;241m.\u001b[39mfind(\u001b[38;5;124m'\u001b[39m\u001b[38;5;124mtable\u001b[39m\u001b[38;5;124m'\u001b[39m, \u001b[38;5;28mid\u001b[39m \u001b[38;5;241m=\u001b[39m table_id)\n\u001b[0;32m     20\u001b[0m \u001b[38;5;66;03m# Get all headers\u001b[39;00m\n\u001b[1;32m---> 21\u001b[0m headers \u001b[38;5;241m=\u001b[39m [th\u001b[38;5;241m.\u001b[39mgetText() \u001b[38;5;28;01mfor\u001b[39;00m th \u001b[38;5;129;01min\u001b[39;00m \u001b[43mtable\u001b[49m\u001b[38;5;241;43m.\u001b[39;49m\u001b[43mfind_all\u001b[49m(\u001b[38;5;124m'\u001b[39m\u001b[38;5;124mtr\u001b[39m\u001b[38;5;124m'\u001b[39m)[\u001b[38;5;241m1\u001b[39m]\u001b[38;5;241m.\u001b[39mfind_all(\u001b[38;5;124m'\u001b[39m\u001b[38;5;124mth\u001b[39m\u001b[38;5;124m'\u001b[39m)]\n\u001b[0;32m     23\u001b[0m \u001b[38;5;66;03m# Get all row data\u001b[39;00m\n\u001b[0;32m     24\u001b[0m rows \u001b[38;5;241m=\u001b[39m table\u001b[38;5;241m.\u001b[39mfind_all(\u001b[38;5;124m'\u001b[39m\u001b[38;5;124mtr\u001b[39m\u001b[38;5;124m'\u001b[39m)[\u001b[38;5;241m2\u001b[39m:]\n",
      "\u001b[1;31mAttributeError\u001b[0m: 'NoneType' object has no attribute 'find_all'"
     ]
    }
   ],
   "source": [
    "list_years = list(range(1995,2025))\n",
    "\n",
    "df_shooting_opp = nba_season_summary_2('shooting-opponent',list_years)"
   ]
  },
  {
   "cell_type": "code",
   "execution_count": 62,
   "metadata": {},
   "outputs": [],
   "source": [
    "#Export all data\n",
    "df_advanced_team.to_csv('Data\\Team Stat Advanced.csv', index = False)\n",
    "df_shooting_team_1.to_csv('Data\\Raw Data\\Team Stat Shooting Team v1.csv', index = False)\n",
    "df_shooting_team_2.to_csv('Data\\Raw Data\\Team Stat Shooting Team v2.csv', index = False)\n",
    "df_shooting_opp.to_csv('Data\\Team Stat Shooting Opponent.csv', index = False)"
   ]
  },
  {
   "cell_type": "markdown",
   "metadata": {},
   "source": [
    "## Scrape all Player Stats\n",
    "\n",
    "Pull player stats to determine who they contribute to the team\n",
    "\n",
    "- Per Game\n",
    "- Totals\n",
    "- Per 36 min\n",
    "- Per Poss\n",
    "- Advanced\n",
    "- Play-by-play\n",
    "\n",
    "\n",
    "\n",
    "Adjusted headings\n",
    "- Play-by-play\n",
    "- Shooting\n",
    "- Adjusted shooting\n"
   ]
  },
  {
   "cell_type": "code",
   "execution_count": 20,
   "metadata": {},
   "outputs": [],
   "source": [
    "#Create Function to scrape first batch of tables\n",
    "def player_stat(table_id, years = [2024]):\n",
    "    final_df = pd.DataFrame()\n",
    "\n",
    "    for year in years:\n",
    "        #Set URL\n",
    "        url = f\"https://www.basketball-reference.com/leagues/NBA_{year}_{table_id}.html\"\n",
    "\n",
    "        #Open URL\n",
    "        html = urlopen(url)\n",
    "\n",
    "        #Create soup object\n",
    "        soup = BeautifulSoup(html, features = 'lxml')\n",
    "        \n",
    "         # Get all headers\n",
    "        headers = [th.getText() for th in soup.find('tr').find_all('th')]\n",
    "\n",
    "        # Get all row data\n",
    "        rows = soup.find_all('tr')[1:]\n",
    "        data = [[trd.getText() for trd in row.find_all('td')] for row in rows]\n",
    "\n",
    "\n",
    "        #Create Dataframe\n",
    "        df_stat = pd.DataFrame(data, columns=headers[1:])\n",
    "        df_stat['Year'] = year\n",
    "\n",
    "        #Append to current dataframe\n",
    "        final_df = pd.concat([final_df, df_stat], ignore_index=True)\n",
    "\n",
    "    return(final_df)"
   ]
  },
  {
   "cell_type": "code",
   "execution_count": 3,
   "metadata": {},
   "outputs": [],
   "source": [
    "list_years = list(range(1995,2025))\n",
    "\n",
    "df_player_totals = player_stat('totals', list_years)\n"
   ]
  },
  {
   "cell_type": "code",
   "execution_count": 30,
   "metadata": {},
   "outputs": [],
   "source": [
    "list_years = list(range(1995,2025))\n",
    "\n",
    "df_player_per_game = player_stat('per_game', list_years)"
   ]
  },
  {
   "cell_type": "code",
   "execution_count": 32,
   "metadata": {},
   "outputs": [],
   "source": [
    "list_years = list(range(1995,2025))\n",
    "\n",
    "df_player_per_min = player_stat('per_minute', list_years)"
   ]
  },
  {
   "cell_type": "code",
   "execution_count": 35,
   "metadata": {},
   "outputs": [],
   "source": [
    "list_years = list(range(1995,2025))\n",
    "\n",
    "df_player_per_poss = player_stat('per_poss', list_years)"
   ]
  },
  {
   "cell_type": "code",
   "execution_count": 37,
   "metadata": {},
   "outputs": [],
   "source": [
    "list_years = list(range(1995,2025))\n",
    "\n",
    "df_player_advanced  = player_stat('advanced', list_years)"
   ]
  },
  {
   "cell_type": "code",
   "execution_count": 4,
   "metadata": {},
   "outputs": [],
   "source": [
    "\n",
    "def player_shooting(table_id, years = [2024]):\n",
    "    final_df = pd.DataFrame()\n",
    "\n",
    "    for year in years:\n",
    "        url = f'https://www.basketball-reference.com/leagues/NBA_{year}_{table_id}.html'\n",
    "\n",
    "        #Open URL\n",
    "        html = urlopen(url)\n",
    "\n",
    "        #Create soup object\n",
    "        soup = BeautifulSoup(html, features = 'lxml')\n",
    "            \n",
    "        # Get all headers\n",
    "        headers = [th.getText() for th in soup.findAll('tr')[1].find_all('th')]\n",
    "\n",
    "        # Get all row data\n",
    "        rows = soup.find_all('tr')[1:]\n",
    "        data = [[trd.getText() for trd in row.find_all('td')] for row in rows]\n",
    "\n",
    "        #Create Dataframe\n",
    "        df_stat = pd.DataFrame(data, columns=headers[1:])\n",
    "        df_stat['Year'] = year\n",
    "\n",
    "        #Append to current dataframe\n",
    "        final_df = pd.concat([final_df, df_stat], ignore_index=True)\n",
    "\n",
    "    return(final_df)"
   ]
  },
  {
   "cell_type": "code",
   "execution_count": 39,
   "metadata": {},
   "outputs": [],
   "source": [
    "list_years = list(range(1997,2025))\n",
    "\n",
    "df_player_shooting  = player_shooting('shooting', list_years)"
   ]
  },
  {
   "cell_type": "code",
   "execution_count": 46,
   "metadata": {},
   "outputs": [
    {
     "ename": "IndexError",
     "evalue": "list index out of range",
     "output_type": "error",
     "traceback": [
      "\u001b[1;31m---------------------------------------------------------------------------\u001b[0m",
      "\u001b[1;31mIndexError\u001b[0m                                Traceback (most recent call last)",
      "Cell \u001b[1;32mIn[46], line 3\u001b[0m\n\u001b[0;32m      1\u001b[0m list_years \u001b[38;5;241m=\u001b[39m \u001b[38;5;28mlist\u001b[39m(\u001b[38;5;28mrange\u001b[39m(\u001b[38;5;241m1997\u001b[39m,\u001b[38;5;241m2025\u001b[39m))\n\u001b[1;32m----> 3\u001b[0m df_player_shooting  \u001b[38;5;241m=\u001b[39m \u001b[43mplayer_shooting\u001b[49m\u001b[43m(\u001b[49m\u001b[38;5;124;43m'\u001b[39;49m\u001b[38;5;124;43madj_shooting\u001b[39;49m\u001b[38;5;124;43m'\u001b[39;49m\u001b[43m,\u001b[49m\u001b[43m \u001b[49m\u001b[43mlist_years\u001b[49m\u001b[43m)\u001b[49m\n",
      "Cell \u001b[1;32mIn[43], line 14\u001b[0m, in \u001b[0;36mplayer_shooting\u001b[1;34m(table_id, years)\u001b[0m\n\u001b[0;32m     11\u001b[0m soup \u001b[38;5;241m=\u001b[39m BeautifulSoup(html, features \u001b[38;5;241m=\u001b[39m \u001b[38;5;124m'\u001b[39m\u001b[38;5;124mlxml\u001b[39m\u001b[38;5;124m'\u001b[39m)\n\u001b[0;32m     13\u001b[0m \u001b[38;5;66;03m# Get all headers\u001b[39;00m\n\u001b[1;32m---> 14\u001b[0m headers \u001b[38;5;241m=\u001b[39m [th\u001b[38;5;241m.\u001b[39mgetText() \u001b[38;5;28;01mfor\u001b[39;00m th \u001b[38;5;129;01min\u001b[39;00m \u001b[43msoup\u001b[49m\u001b[38;5;241;43m.\u001b[39;49m\u001b[43mfindAll\u001b[49m\u001b[43m(\u001b[49m\u001b[38;5;124;43m'\u001b[39;49m\u001b[38;5;124;43mtr\u001b[39;49m\u001b[38;5;124;43m'\u001b[39;49m\u001b[43m)\u001b[49m\u001b[43m[\u001b[49m\u001b[38;5;241;43m1\u001b[39;49m\u001b[43m]\u001b[49m\u001b[38;5;241m.\u001b[39mfind_all(\u001b[38;5;124m'\u001b[39m\u001b[38;5;124mth\u001b[39m\u001b[38;5;124m'\u001b[39m)]\n\u001b[0;32m     16\u001b[0m \u001b[38;5;66;03m# Get all row data\u001b[39;00m\n\u001b[0;32m     17\u001b[0m rows \u001b[38;5;241m=\u001b[39m soup\u001b[38;5;241m.\u001b[39mfind_all(\u001b[38;5;124m'\u001b[39m\u001b[38;5;124mtr\u001b[39m\u001b[38;5;124m'\u001b[39m)[\u001b[38;5;241m1\u001b[39m:]\n",
      "\u001b[1;31mIndexError\u001b[0m: list index out of range"
     ]
    }
   ],
   "source": [
    "list_years = list(range(1997,2025))\n",
    "\n",
    "df_player_shooting  = player_shooting('adj_shooting', list_years)"
   ]
  },
  {
   "cell_type": "code",
   "execution_count": 41,
   "metadata": {},
   "outputs": [],
   "source": [
    "#Export all data\n",
    "df_player_totals.to_csv(r'C:\\Users\\User\\OneDrive\\Desktop\\Data Science Projects\\Basketball Winning Team\\Data\\Player Stat totals.csv', index = False)\n",
    "df_player_per_game.to_csv(r'C:\\Users\\User\\OneDrive\\Desktop\\Data Science Projects\\Basketball Winning Team\\Data\\Player Stat Per Game.csv', index = False)\n",
    "df_player_per_min.to_csv(r'C:\\Users\\User\\OneDrive\\Desktop\\Data Science Projects\\Basketball Winning Team\\Data\\Player Stat Per 36 Min.csv', index = False)\n",
    "df_player_per_poss.to_csv(r'C:\\Users\\User\\OneDrive\\Desktop\\Data Science Projects\\Basketball Winning Team\\Data\\Player Stat Per 100 Possession.csv', index = False)\n",
    "df_player_advanced.to_csv(r'C:\\Users\\User\\OneDrive\\Desktop\\Data Science Projects\\Basketball Winning Team\\Data\\Player Stat Advanced.csv', index = False)\n",
    "df_player_shooting.to_csv(r'C:\\Users\\User\\OneDrive\\Desktop\\Data Science Projects\\Basketball Winning Team\\Data\\Raw Data\\Player Stat Shooting.csv', index = False)"
   ]
  },
  {
   "cell_type": "code",
   "execution_count": null,
   "metadata": {},
   "outputs": [],
   "source": []
  },
  {
   "cell_type": "code",
   "execution_count": null,
   "metadata": {},
   "outputs": [],
   "source": []
  }
 ],
 "metadata": {
  "kernelspec": {
   "display_name": "base",
   "language": "python",
   "name": "python3"
  },
  "language_info": {
   "codemirror_mode": {
    "name": "ipython",
    "version": 3
   },
   "file_extension": ".py",
   "mimetype": "text/x-python",
   "name": "python",
   "nbconvert_exporter": "python",
   "pygments_lexer": "ipython3",
   "version": "3.10.9"
  }
 },
 "nbformat": 4,
 "nbformat_minor": 2
}
